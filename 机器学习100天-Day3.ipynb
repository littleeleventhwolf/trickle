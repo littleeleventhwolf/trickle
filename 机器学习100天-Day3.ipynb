{
 "cells": [
  {
   "cell_type": "markdown",
   "metadata": {},
   "source": [
    "![Multiple Linear Regression](机器学习100天-Day3/multiple_linear_regression.jpg)\n",
    "\n",
    "# 多重线性回归（multiple linear regression）\n",
    "## 多重线性回归的概念\n",
    "多重线性回归是基于观测数据，给2个以上特征与结果构建线性模型的等式。构建多重线性回归模型的步骤与单线性回归模型类似。其中不同在于评价。你将使用评价去找出哪一个因素对预测结果有更大的影响以及不同变量之间的相关性。\n",
    "$$y = b_0 + b_1x_1 + b_2x_2 + ... + b_nx_n$$\n",
    "\n",
    "## 假设（对于一个成功的回归分析，确认以下四点假设十分重要）\n",
    "* 线性（linearity）：自变量和因变量之间的关系应该是线性的。\n",
    "* 同方差性（homoscedasticity）：误差保持不变。\n",
    "* 多元正态（multivariate normality）：多重回归呈现正态分布。\n",
    "* 缺乏多重共线性：假定在数据中有很少或没有多重共线性。多重共线性在特征/变量之间不是独立的时候出现。所以说，只有变量之间相互独立，才不会出现多重共线性。\n",
    "\n",
    "## 注意\n",
    "过多的变量有可能会导致模型变得不准确。尤其是当某些变量对结果没有任何影响或对其他变量有显著影响的时候。有很多方法去选择合适的变量。\n",
    "* 前向选择（forward selection）\n",
    "* 后向消除（backward elimination）\n",
    "* 双向比较（bi-directional comparision）\n",
    "\n",
    "## 虚拟变量（dummy variables）\n",
    "在第一天的练习中已经使用imputer方法对Yes和No进行虚拟变量转换。在多重回归模型中使用类别数据是一个很有效的方法，其中包括将非数字类型的数据引入回归模型中。类别数据是指数据值代表类别（数据值是一个固定的无序的数值）。例如，性别。在回归模型中这些数据能够被虚拟变量表达（将男女两个性别转为0、1）。感觉这里的类别变量就是量化研究中的名义变量，要使用特定数值进行表达。\n",
    "\n",
    "# 第一步：数据预处理\n",
    "* 引入库\n",
    "* 引入数据集"
   ]
  },
  {
   "cell_type": "code",
   "execution_count": 1,
   "metadata": {},
   "outputs": [],
   "source": [
    "import pandas as pd\n",
    "import numpy as np\n",
    "\n",
    "dataset = pd.read_csv('dataset/day3.csv')\n",
    "X = dataset.iloc[:, :-1].values\n",
    "Y = dataset.iloc[:, 4].values"
   ]
  },
  {
   "cell_type": "markdown",
   "metadata": {},
   "source": [
    "* 检查丢失数据\n",
    "* 类别变量编码"
   ]
  },
  {
   "cell_type": "code",
   "execution_count": 8,
   "metadata": {},
   "outputs": [],
   "source": [
    "from sklearn.preprocessing import LabelEncoder, OneHotEncoder\n",
    "labelencoder = LabelEncoder()\n",
    "X[:, 3] = labelencoder.fit_transform(X[:, 3])\n",
    "onehotencoder = OneHotEncoder(categorical_features=[3])\n",
    "X = onehotencoder.fit_transform(X).toarray()"
   ]
  },
  {
   "cell_type": "markdown",
   "metadata": {},
   "source": [
    "* 处理虚拟变量，避免虚拟变量陷阱"
   ]
  },
  {
   "cell_type": "code",
   "execution_count": 9,
   "metadata": {},
   "outputs": [],
   "source": [
    "# 防止虚拟陷阱，从第二个开始取\n",
    "X = X[:, 1:]"
   ]
  },
  {
   "cell_type": "markdown",
   "metadata": {},
   "source": [
    "* 将数据集分为训练集和测试集"
   ]
  },
  {
   "cell_type": "code",
   "execution_count": 10,
   "metadata": {},
   "outputs": [
    {
     "name": "stderr",
     "output_type": "stream",
     "text": [
      "/Library/Frameworks/Python.framework/Versions/3.6/lib/python3.6/site-packages/sklearn/cross_validation.py:41: DeprecationWarning: This module was deprecated in version 0.18 in favor of the model_selection module into which all the refactored classes and functions are moved. Also note that the interface of the new CV iterators are different from that of this module. This module will be removed in 0.20.\n",
      "  \"This module will be removed in 0.20.\", DeprecationWarning)\n"
     ]
    }
   ],
   "source": [
    "from sklearn.cross_validation import train_test_split\n",
    "X_train, X_test, Y_train, Y_test = train_test_split(X, Y, test_size=0.2, random_state=0)"
   ]
  },
  {
   "cell_type": "markdown",
   "metadata": {},
   "source": [
    "# 第二步：用训练集拟合模型\n",
    "这一步与单线性回归类似，使用LinearRegression中的regressor，使用fit()方法。"
   ]
  },
  {
   "cell_type": "code",
   "execution_count": 11,
   "metadata": {},
   "outputs": [
    {
     "name": "stderr",
     "output_type": "stream",
     "text": [
      "/Library/Frameworks/Python.framework/Versions/3.6/lib/python3.6/site-packages/sklearn/linear_model/base.py:509: RuntimeWarning: internal gelsd driver lwork query error, required iwork dimension not returned. This is likely the result of LAPACK bug 0038, fixed in LAPACK 3.2.2 (released July 21, 2010). Falling back to 'gelss' driver.\n",
      "  linalg.lstsq(X, y)\n"
     ]
    },
    {
     "data": {
      "text/plain": [
       "LinearRegression(copy_X=True, fit_intercept=True, n_jobs=1, normalize=False)"
      ]
     },
     "execution_count": 11,
     "metadata": {},
     "output_type": "execute_result"
    }
   ],
   "source": [
    "from sklearn.linear_model import LinearRegression\n",
    "regressor = LinearRegression()\n",
    "regressor.fit(X_train, Y_train)"
   ]
  },
  {
   "cell_type": "markdown",
   "metadata": {},
   "source": [
    "# 第三步：预测测试结果\n",
    "在这里预测观测数据。输出值为Y_pred。"
   ]
  },
  {
   "cell_type": "code",
   "execution_count": 12,
   "metadata": {},
   "outputs": [],
   "source": [
    "Y_pred = regressor.predict(X_test)"
   ]
  }
 ],
 "metadata": {
  "kernelspec": {
   "display_name": "Python 3",
   "language": "python",
   "name": "python3"
  },
  "language_info": {
   "codemirror_mode": {
    "name": "ipython",
    "version": 3
   },
   "file_extension": ".py",
   "mimetype": "text/x-python",
   "name": "python",
   "nbconvert_exporter": "python",
   "pygments_lexer": "ipython3",
   "version": "3.6.6"
  }
 },
 "nbformat": 4,
 "nbformat_minor": 2
}
