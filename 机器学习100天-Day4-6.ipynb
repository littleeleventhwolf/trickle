{
 "cells": [
  {
   "cell_type": "markdown",
   "metadata": {},
   "source": [
    "![logistic regression](机器学习100天-Day4-6/logistic_regression.jpg)\n",
    "\n",
    "# 逻辑回归（Logistic Regression）\n",
    "## 什么是逻辑回归\n",
    "逻辑回归被用于对不同问题进行分类。在这里，逻辑回归的目标是用于对观测数据进行分类预测。逻辑回归给出一个介于0和1之间离散的二元结果。例如，一个人是否会对选举进行投票。\n",
    "\n",
    "## 如何工作\n",
    "逻辑回归通过**使用相关逻辑方法评估可能性**来计算因变量（我们的标签，我们希望进行预测的）与一个或多个自变量（我们的特征）之间的关系。**即是说，因变量是希望预测的结果，自变量是特征**。\n",
    "\n",
    "## 逻辑 VS. 线性\n",
    "逻辑回归给予你一个离散结果，而线性回归给出的连续结果。\n",
    "\n",
    "## sigmoid方法\n",
    "sigmoid方法是一个S型曲线，它能够将实数值映射在一个介于0和1之前的区间，但不会达到极限。\n",
    "\n",
    "## 本次需求\n",
    "一家公司希望投放SUV。我们试图找出哪些用户是潜在的购买对象。数据最后一列为用户是否购买，根据数据构建模型。\n",
    "* 模型构建基于两个变量：年龄和工资，所以矩阵特征只需要获取这两列即可。"
   ]
  },
  {
   "cell_type": "code",
   "execution_count": 1,
   "metadata": {},
   "outputs": [],
   "source": [
    "import numpy as np\n",
    "import matplotlib.pyplot as plt\n",
    "import pandas as pd\n",
    "\n",
    "dataset = pd.read_csv('dataset/day4.csv')\n",
    "X = dataset.iloc[:, [2, 3]].values\n",
    "y = dataset.iloc[:, 4].values"
   ]
  },
  {
   "cell_type": "markdown",
   "metadata": {},
   "source": [
    "## 预测数据\n",
    "* 在这里引入的是逻辑回归函数，同样fit()、predict()之后完成。"
   ]
  },
  {
   "cell_type": "code",
   "execution_count": 2,
   "metadata": {},
   "outputs": [
    {
     "name": "stderr",
     "output_type": "stream",
     "text": [
      "/Library/Frameworks/Python.framework/Versions/3.6/lib/python3.6/site-packages/sklearn/cross_validation.py:41: DeprecationWarning: This module was deprecated in version 0.18 in favor of the model_selection module into which all the refactored classes and functions are moved. Also note that the interface of the new CV iterators are different from that of this module. This module will be removed in 0.20.\n",
      "  \"This module will be removed in 0.20.\", DeprecationWarning)\n",
      "/Library/Frameworks/Python.framework/Versions/3.6/lib/python3.6/site-packages/sklearn/utils/validation.py:475: DataConversionWarning: Data with input dtype int64 was converted to float64 by StandardScaler.\n",
      "  warnings.warn(msg, DataConversionWarning)\n"
     ]
    }
   ],
   "source": [
    "# splitting the dataset into the training set and test set\n",
    "from sklearn.cross_validation import train_test_split\n",
    "X_train, X_test, y_train, y_test = train_test_split(X, y, test_size=0.25, random_state=0)\n",
    "\n",
    "# feature scaling\n",
    "from sklearn.preprocessing import StandardScaler\n",
    "sc = StandardScaler()\n",
    "X_train = sc.fit_transform(X_train)\n",
    "X_test = sc.transform(X_test)\n",
    "\n",
    "# fitting logistic regression to the training set\n",
    "from sklearn.linear_model import LogisticRegression\n",
    "classifier = LogisticRegression()\n",
    "classifier.fit(X_train, y_train)\n",
    "\n",
    "# predicting the test result\n",
    "y_pred = classifier.predict(X_test)"
   ]
  },
  {
   "cell_type": "markdown",
   "metadata": {},
   "source": [
    "## 评估预测结果\n",
    "* 使用metrics中的confusion_matrix混淆矩阵方法。"
   ]
  },
  {
   "cell_type": "code",
   "execution_count": 3,
   "metadata": {},
   "outputs": [],
   "source": [
    "from sklearn.metrics import confusion_matrix\n",
    "cm = confusion_matrix(y_test, y_pred)"
   ]
  }
 ],
 "metadata": {
  "kernelspec": {
   "display_name": "Python 3",
   "language": "python",
   "name": "python3"
  },
  "language_info": {
   "codemirror_mode": {
    "name": "ipython",
    "version": 3
   },
   "file_extension": ".py",
   "mimetype": "text/x-python",
   "name": "python",
   "nbconvert_exporter": "python",
   "pygments_lexer": "ipython3",
   "version": "3.6.6"
  }
 },
 "nbformat": 4,
 "nbformat_minor": 2
}
